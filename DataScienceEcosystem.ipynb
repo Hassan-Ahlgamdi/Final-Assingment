{
 "cells": [
  {
   "cell_type": "markdown",
   "metadata": {},
   "source": [
    "<center>\n",
    "    <img src=\"https://cf-courses-data.s3.us.cloud-object-storage.appdomain.cloud/IBMDeveloperSkillsNetwork-DS0105EN-SkillsNetwork/labs/Module2/images/SN_web_lightmode.png\" width=\"300\" alt=\"cognitiveclass.ai logo\">\n",
    "</center>\n"
   ]
  },
  {
   "cell_type": "markdown",
   "metadata": {},
   "source": [
    "#### Add your code below following the instructions given in the course\n"
   ]
  },
  {
   "cell_type": "markdown",
   "metadata": {
    "tags": []
   },
   "source": [
    "# Data Science Tools and Ecosystem"
   ]
  },
  {
   "cell_type": "markdown",
   "metadata": {},
   "source": [
    "## In this notebook, Data Science Tools and Ecosystem are summarized."
   ]
  },
  {
   "cell_type": "markdown",
   "metadata": {},
   "source": [
    "### Some of the popular languages that Data Scientists use are:\n",
    "1. Python\n",
    "2. R\n",
    "3. SQL\n",
    "4. MATLAB"
   ]
  },
  {
   "cell_type": "markdown",
   "metadata": {
    "tags": []
   },
   "source": [
    "### Some of the commonly used libraries used by Data Scientists include:\n",
    "#### Python Libraries\n",
    "\n",
    "1. **NumPy**\n",
    "   - **Purpose**: Fundamental package for numerical computing with Python.\n",
    "   - **Use Cases**: Array and matrix operations, mathematical functions, random number generation.\n",
    "\n",
    "2. **Pandas**\n",
    "   - **Purpose**: Data manipulation and analysis.\n",
    "   - **Use Cases**: Handling and processing structured data, DataFrames, reading and writing data from various file formats (CSV, Excel, SQL databases).\n",
    "\n",
    "3. **Matplotlib**\n",
    "   - **Purpose**: Plotting and data visualization.\n",
    "   - **Use Cases**: Creating static, interactive, and animated visualizations in Python.\n",
    "\n",
    "4. **Seaborn**\n",
    "   - **Purpose**: Statistical data visualization.\n",
    "   - **Use Cases**: Creating informative and attractive statistical graphics, built on top of Matplotlib.\n",
    "\n",
    "5. **Scikit-learn**\n",
    "   - **Purpose**: Machine learning library.\n",
    "   - **Use Cases**: Classification, regression, clustering, model selection, and preprocessing.\n",
    "\n",
    "6. **TensorFlow**\n",
    "   - **Purpose**: Deep learning framework.\n",
    "   - **Use Cases**: Building and training neural networks, machine learning models, large-scale machine learning applications.\n",
    "\n",
    "7. **Keras**\n",
    "   - **Purpose**: High-level neural networks API.\n",
    "   - **Use Cases**: Building and training deep learning models, easy and fast prototyping.\n",
    "\n",
    "8. **PyTorch**\n",
    "   - **Purpose**: Deep learning framework.\n",
    "   - **Use Cases**: Building and training neural networks, dynamic computation graphs, research and production.\n",
    "\n",
    "9. **SciPy**\n",
    "   - **Purpose**: Scientific and technical computing.\n",
    "   - **Use Cases**: Advanced mathematical functions, optimization, integration, interpolation, eigenvalue problems.\n"
   ]
  },
  {
   "cell_type": "markdown",
   "metadata": {},
   "source": [
    "### Data Science Tools: \n",
    "| Data Science Tools|\n",
    "|-------------------|\n",
    "| Jupyter Notebook  |\n",
    "| RStudio           |\n",
    "| Apache Zepplin    |"
   ]
  },
  {
   "cell_type": "markdown",
   "metadata": {},
   "source": [
    "### Below are a few examples of evaluating arithmetic expressions in Python"
   ]
  },
  {
   "cell_type": "code",
   "execution_count": 2,
   "metadata": {
    "tags": []
   },
   "outputs": [
    {
     "data": {
      "text/plain": [
       "17"
      ]
     },
     "execution_count": 2,
     "metadata": {},
     "output_type": "execute_result"
    }
   ],
   "source": [
    "#This a simple arithmetic expression to mutiply then add integers\n",
    "(3*4)+5"
   ]
  },
  {
   "cell_type": "code",
   "execution_count": 3,
   "metadata": {
    "tags": []
   },
   "outputs": [
    {
     "data": {
      "text/plain": [
       "3.3333333333333335"
      ]
     },
     "execution_count": 3,
     "metadata": {},
     "output_type": "execute_result"
    }
   ],
   "source": [
    "# This will convert 200 minutes to hours by diving by 60\n",
    "minutes = 200 \n",
    "hourse = minutes / 60\n",
    "hourse"
   ]
  },
  {
   "cell_type": "markdown",
   "metadata": {},
   "source": [
    "**Objectives:**\n",
    "\n",
    "- List popular languages for Data Science\n",
    "- Introduce commonly used libraries for Data Science\n",
    "- Discuss different data visualization techniques\n",
    "- Explain machine learning fundamentals\n",
    "- Demonstrate how to use Jupyter Notebook for data analysis\n"
   ]
  },
  {
   "cell_type": "code",
   "execution_count": null,
   "metadata": {},
   "outputs": [],
   "source": []
  }
 ],
 "metadata": {
  "kernelspec": {
   "display_name": "Python",
   "language": "python",
   "name": "conda-env-python-py"
  },
  "language_info": {
   "codemirror_mode": {
    "name": "ipython",
    "version": 3
   },
   "file_extension": ".py",
   "mimetype": "text/x-python",
   "name": "python",
   "nbconvert_exporter": "python",
   "pygments_lexer": "ipython3",
   "version": "3.7.12"
  }
 },
 "nbformat": 4,
 "nbformat_minor": 4
}
